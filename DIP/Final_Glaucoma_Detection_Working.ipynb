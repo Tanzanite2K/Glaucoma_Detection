{
  "cells": [
    {
      "cell_type": "code",
      "execution_count": 1,
      "metadata": {
        "colab": {
          "base_uri": "https://localhost:8080/"
        },
        "id": "96JzuA-y2xcA",
        "outputId": "95a11653-2ec3-42ac-b4c0-e4cfae9f4731"
      },
      "outputs": [
        {
          "name": "stdout",
          "output_type": "stream",
          "text": [
            "WARNING:tensorflow:From c:\\Users\\Jeyanand\\anaconda3\\Lib\\site-packages\\keras\\src\\losses.py:2976: The name tf.losses.sparse_softmax_cross_entropy is deprecated. Please use tf.compat.v1.losses.sparse_softmax_cross_entropy instead.\n",
            "\n",
            "Found 4218 images belonging to 4 classes.\n",
            "WARNING:tensorflow:From c:\\Users\\Jeyanand\\anaconda3\\Lib\\site-packages\\keras\\src\\backend.py:873: The name tf.get_default_graph is deprecated. Please use tf.compat.v1.get_default_graph instead.\n",
            "\n",
            "WARNING:tensorflow:From c:\\Users\\Jeyanand\\anaconda3\\Lib\\site-packages\\keras\\src\\layers\\pooling\\max_pooling2d.py:161: The name tf.nn.max_pool is deprecated. Please use tf.nn.max_pool2d instead.\n",
            "\n",
            "WARNING:tensorflow:From c:\\Users\\Jeyanand\\anaconda3\\Lib\\site-packages\\keras\\src\\optimizers\\__init__.py:309: The name tf.train.Optimizer is deprecated. Please use tf.compat.v1.train.Optimizer instead.\n",
            "\n",
            "Epoch 1/15\n",
            "WARNING:tensorflow:From c:\\Users\\Jeyanand\\anaconda3\\Lib\\site-packages\\keras\\src\\utils\\tf_utils.py:492: The name tf.ragged.RaggedTensorValue is deprecated. Please use tf.compat.v1.ragged.RaggedTensorValue instead.\n",
            "\n",
            "WARNING:tensorflow:From c:\\Users\\Jeyanand\\anaconda3\\Lib\\site-packages\\keras\\src\\engine\\base_layer_utils.py:384: The name tf.executing_eagerly_outside_functions is deprecated. Please use tf.compat.v1.executing_eagerly_outside_functions instead.\n",
            "\n",
            "263/263 [==============================] - 52s 192ms/step - loss: 0.8036 - accuracy: 0.6509\n",
            "Epoch 2/15\n",
            "263/263 [==============================] - 47s 179ms/step - loss: 0.5774 - accuracy: 0.7653\n",
            "Epoch 3/15\n",
            "263/263 [==============================] - 49s 186ms/step - loss: 0.5213 - accuracy: 0.7875\n",
            "Epoch 4/15\n",
            "263/263 [==============================] - 49s 188ms/step - loss: 0.4712 - accuracy: 0.8068\n",
            "Epoch 5/15\n",
            "263/263 [==============================] - 49s 187ms/step - loss: 0.4418 - accuracy: 0.8165\n",
            "Epoch 6/15\n",
            "263/263 [==============================] - 50s 189ms/step - loss: 0.4103 - accuracy: 0.8329\n",
            "Epoch 7/15\n",
            "263/263 [==============================] - 49s 187ms/step - loss: 0.4060 - accuracy: 0.8358\n",
            "Epoch 8/15\n",
            "263/263 [==============================] - 49s 187ms/step - loss: 0.3913 - accuracy: 0.8429\n",
            "Epoch 9/15\n",
            "263/263 [==============================] - 50s 189ms/step - loss: 0.3611 - accuracy: 0.8565\n",
            "Epoch 10/15\n",
            "263/263 [==============================] - 50s 189ms/step - loss: 0.3253 - accuracy: 0.8741\n",
            "Epoch 11/15\n",
            "263/263 [==============================] - 50s 188ms/step - loss: 0.3198 - accuracy: 0.8724\n",
            "Epoch 12/15\n",
            "263/263 [==============================] - 50s 188ms/step - loss: 0.2901 - accuracy: 0.8853\n",
            "Epoch 13/15\n",
            "263/263 [==============================] - 49s 188ms/step - loss: 0.2803 - accuracy: 0.8905\n",
            "Epoch 14/15\n",
            "263/263 [==============================] - 50s 191ms/step - loss: 0.2711 - accuracy: 0.8936\n",
            "Epoch 15/15\n",
            "263/263 [==============================] - 50s 189ms/step - loss: 0.2510 - accuracy: 0.9027\n"
          ]
        },
        {
          "name": "stderr",
          "output_type": "stream",
          "text": [
            "c:\\Users\\Jeyanand\\anaconda3\\Lib\\site-packages\\keras\\src\\engine\\training.py:3103: UserWarning: You are saving your model as an HDF5 file via `model.save()`. This file format is considered legacy. We recommend using instead the native Keras format, e.g. `model.save('my_model.keras')`.\n",
            "  saving_api.save_model(\n"
          ]
        }
      ],
      "source": [
        "import tensorflow as tf\n",
        "from tensorflow.keras.preprocessing.image import ImageDataGenerator\n",
        "\n",
        "# Set the paths to the image data folders\n",
        "path_dir = 'Glaucoma/Glaucoma/Glaucoma Dataset - 2'\n",
        "\n",
        "# Define the parameters for the model\n",
        "image_width, image_height = 150, 150\n",
        "input_shape = (image_width, image_height, 3)\n",
        "batch_size = 16\n",
        "epochs = 15\n",
        "num_classes = 4\n",
        "\n",
        "# Create the data generator and load the images\n",
        "data_generator = ImageDataGenerator(rescale=1./255)\n",
        "train_data = data_generator.flow_from_directory(\n",
        "    directory=path_dir,\n",
        "    target_size=(image_width, image_height),\n",
        "    batch_size=batch_size,\n",
        "    class_mode='categorical',\n",
        "    shuffle=True\n",
        ")\n",
        "\n",
        "# Create the model architecture\n",
        "model = tf.keras.models.Sequential([\n",
        "    tf.keras.layers.Conv2D(32, (3, 3), activation='relu', input_shape=input_shape),\n",
        "    tf.keras.layers.MaxPooling2D(pool_size=(2, 2)),\n",
        "    tf.keras.layers.Conv2D(64, (3, 3), activation='relu'),\n",
        "    tf.keras.layers.MaxPooling2D(pool_size=(2, 2)),\n",
        "    tf.keras.layers.Flatten(),\n",
        "    tf.keras.layers.Dense(64, activation='relu'),\n",
        "    tf.keras.layers.Dense(num_classes, activation='softmax')\n",
        "])\n",
        "\n",
        "# Compile the model\n",
        "model.compile(optimizer='adam', loss='categorical_crossentropy', metrics=['accuracy'])\n",
        "\n",
        "# Train the model\n",
        "history=model.fit(\n",
        "    train_data,\n",
        "    steps_per_epoch=train_data.samples // batch_size,\n",
        "    epochs=epochs\n",
        ")\n",
        "\n",
        "# Save the trained model\n",
        "model.save('glaucoma_model.h5')\n"
      ]
    },
    {
      "cell_type": "code",
      "execution_count": 2,
      "metadata": {},
      "outputs": [],
      "source": [
        "import matplotlib.pyplot as plt"
      ]
    },
    {
      "cell_type": "code",
      "execution_count": 3,
      "metadata": {},
      "outputs": [
        {
          "name": "stdout",
          "output_type": "stream",
          "text": [
            "dict_keys(['loss', 'accuracy'])\n"
          ]
        }
      ],
      "source": [
        "print(history.history.keys())"
      ]
    },
    {
      "cell_type": "code",
      "execution_count": 6,
      "metadata": {},
      "outputs": [
        {
          "name": "stdout",
          "output_type": "stream",
          "text": [
            "dict_keys(['loss', 'accuracy'])\n"
          ]
        },
        {
          "data": {
            "image/png": "[encoded data removed]",
            "text/plain": [
              "<Figure size 640x480 with 1 Axes>"
            ]
          },
          "metadata": {},
          "output_type": "display_data"
        },
        {
          "data": {
            "image/png": "[encoded data removed]",
            "text/plain": [
              "<Figure size 640x480 with 1 Axes>"
            ]
          },
          "metadata": {},
          "output_type": "display_data"
        }
      ],
      "source": [
        "print(history.history.keys())\n",
        "# summarize history for accuracy\n",
        "plt.plot(history.history['accuracy'])\n",
        "# plt.plot(history.history['val_accuracy'])\n",
        "plt.title('Model Accuracy')\n",
        "plt.ylabel('accuracy')\n",
        "plt.xlabel('epoch')\n",
        "# plt.legend(['train', 'test'], loc='upper left')\n",
        "plt.show()\n",
        "# summarize history for loss\n",
        "plt.plot(history.history['loss'])\n",
        "# plt.plot(history.history['val_loss'])\n",
        "plt.title('Model Loss')\n",
        "plt.ylabel('loss')\n",
        "plt.xlabel('epoch')\n",
        "# plt.legend(['train', 'test'], loc='upper left')\n",
        "plt.show()"
      ]
    },
    {
      "cell_type": "code",
      "execution_count": null,
      "metadata": {
        "id": "6YtIXmGM7lmZ"
      },
      "outputs": [],
      "source": [
        "from keras.preprocessing.image import ImageDataGenerator\n",
        "from tensorflow.keras.utils import array_to_img, img_to_array, load_img\n",
        "from keras.models import Sequential\n",
        "from keras.layers import Conv2D, MaxPooling2D\n",
        "from keras.layers import Activation, Dropout, Flatten, Dense\n",
        "from keras.preprocessing import image\n",
        "import numpy as np\n",
        "from keras import backend as K"
      ]
    },
    {
      "cell_type": "code",
      "execution_count": null,
      "metadata": {
        "colab": {
          "base_uri": "https://localhost:8080/"
        },
        "id": "lCEz3Tqn_k3s",
        "outputId": "9aae8f6b-565e-49bd-b7a1-0c3ec57de62a"
      },
      "outputs": [
        {
          "name": "stdout",
          "output_type": "stream",
          "text": [
            "1/1 [==============================] - 0s 90ms/step\n",
            "[[1. 0. 0. 0.]]\n"
          ]
        }
      ],
      "source": [
        "# Cataract\n",
        "img_prd = load_img('Glaucoma/Glaucoma/Glaucoma Dataset - 2/cataract/103_left.jpg',target_size=(150,150))\n",
        "img_prd = img_to_array(img_prd)\n",
        "img_pred = np.expand_dims(img_prd, axis=0)\n",
        "\n",
        "result = model.predict(img_pred)\n",
        "print(result)"
      ]
    },
    {
      "cell_type": "code",
      "execution_count": null,
      "metadata": {
        "colab": {
          "base_uri": "https://localhost:8080/"
        },
        "id": "CUV2AnXYA7EF",
        "outputId": "f2f401da-324e-4f40-b913-037dc7797f39"
      },
      "outputs": [
        {
          "name": "stdout",
          "output_type": "stream",
          "text": [
            "1/1 [==============================] - 0s 21ms/step\n",
            "[[1. 0. 0. 0.]]\n"
          ]
        }
      ],
      "source": [
        "# Cataract\n",
        "img_prd = load_img('Glaucoma/Glaucoma/Glaucoma Dataset - 2/cataract/1084_right.jpg',target_size=(150,150))\n",
        "img_prd = img_to_array(img_prd)\n",
        "img_pred = np.expand_dims(img_prd, axis=0)\n",
        "\n",
        "result = model.predict(img_pred)\n",
        "print(result)"
      ]
    },
    {
      "cell_type": "code",
      "execution_count": null,
      "metadata": {
        "colab": {
          "base_uri": "https://localhost:8080/"
        },
        "id": "9DdGUnd9ADmm",
        "outputId": "57d13a25-3c7a-42bf-93f0-f9ecc1d09845"
      },
      "outputs": [
        {
          "name": "stdout",
          "output_type": "stream",
          "text": [
            "1/1 [==============================] - 0s 21ms/step\n",
            "[[0. 1. 0. 0.]]\n"
          ]
        }
      ],
      "source": [
        "# Diabetic\n",
        "img_prd = load_img('Glaucoma/Glaucoma/Glaucoma Dataset - 2/diabetic_retinopathy/10003_left.jpeg',target_size=(150,150))\n",
        "img_prd = img_to_array(img_prd)\n",
        "img_pred = np.expand_dims(img_prd, axis=0)\n",
        "\n",
        "result = model.predict(img_pred)\n",
        "print(result)"
      ]
    },
    {
      "cell_type": "code",
      "execution_count": null,
      "metadata": {
        "colab": {
          "base_uri": "https://localhost:8080/"
        },
        "id": "zzvC-eCXBD2G",
        "outputId": "bdad07f8-ccda-4578-ce84-6911bfa5ff49"
      },
      "outputs": [
        {
          "name": "stdout",
          "output_type": "stream",
          "text": [
            "1/1 [==============================] - 0s 19ms/step\n",
            "[[0. 1. 0. 0.]]\n"
          ]
        }
      ],
      "source": [
        "# Diabetic\n",
        "img_prd = load_img('Glaucoma/Glaucoma/Glaucoma Dataset - 2/diabetic_retinopathy/10003_right.jpeg',target_size=(150,150))\n",
        "img_prd = img_to_array(img_prd)\n",
        "img_pred = np.expand_dims(img_prd, axis=0)\n",
        "\n",
        "result = model.predict(img_pred)\n",
        "print(result)"
      ]
    },
    {
      "cell_type": "code",
      "execution_count": null,
      "metadata": {
        "colab": {
          "base_uri": "https://localhost:8080/"
        },
        "id": "NGB5SzXK_rwc",
        "outputId": "0073dbd9-6ff6-49c6-f927-134c83e424e2"
      },
      "outputs": [
        {
          "name": "stdout",
          "output_type": "stream",
          "text": [
            "1/1 [==============================] - 0s 19ms/step\n",
            "[[0. 0. 1. 0.]]\n"
          ]
        }
      ],
      "source": [
        "# Glaucoma\n",
        "img_prd = load_img('Glaucoma/Glaucoma/Glaucoma Dataset - 2/glaucoma/1209_left.jpg',target_size=(150,150))\n",
        "img_prd = img_to_array(img_prd)\n",
        "img_pred = np.expand_dims(img_prd, axis=0)\n",
        "\n",
        "result = model.predict(img_pred)\n",
        "print(result)"
      ]
    },
    {
      "cell_type": "code",
      "execution_count": null,
      "metadata": {
        "colab": {
          "base_uri": "https://localhost:8080/"
        },
        "id": "p3vuGHbqBNZm",
        "outputId": "cf3cb7e9-10e6-4ca3-8ed7-9bcb3f73de45"
      },
      "outputs": [
        {
          "name": "stdout",
          "output_type": "stream",
          "text": [
            "1/1 [==============================] - 0s 20ms/step\n",
            "[[0. 1. 0. 0.]]\n"
          ]
        }
      ],
      "source": [
        "# Glaucoma\n",
        "img_prd = load_img('Glaucoma/Glaucoma/Glaucoma data - 1/Glaucoma/2 (1).jpg',target_size=(150,150))\n",
        "img_prd = img_to_array(img_prd)\n",
        "img_pred = np.expand_dims(img_prd, axis=0)\n",
        "\n",
        "result = model.predict(img_pred)\n",
        "print(result)"
      ]
    },
    {
      "cell_type": "code",
      "execution_count": null,
      "metadata": {
        "colab": {
          "base_uri": "https://localhost:8080/"
        },
        "id": "iIU1K-BaAX1A",
        "outputId": "b81f92ca-f91c-443b-9154-e7e93cd32341"
      },
      "outputs": [
        {
          "name": "stdout",
          "output_type": "stream",
          "text": [
            "1/1 [==============================] - 0s 19ms/step\n",
            "[[0. 1. 0. 0.]]\n"
          ]
        }
      ],
      "source": [
        "# Normal\n",
        "img_prd = load_img('Glaucoma/Glaucoma/Glaucoma data - 1/Non Glaucoma/1 (12).tif',target_size=(150,150))\n",
        "img_prd = img_to_array(img_prd)\n",
        "img_pred = np.expand_dims(img_prd, axis=0)\n",
        "\n",
        "result = model.predict(img_pred)\n",
        "print(result)"
      ]
    },
    {
      "cell_type": "code",
      "execution_count": null,
      "metadata": {
        "colab": {
          "base_uri": "https://localhost:8080/"
        },
        "id": "aBPNQ9fwBb1s",
        "outputId": "c01b1a6c-e4e2-48d0-fad2-269194940287"
      },
      "outputs": [
        {
          "name": "stdout",
          "output_type": "stream",
          "text": [
            "1/1 [==============================] - 0s 20ms/step\n",
            "[[0. 0. 0. 1.]]\n"
          ]
        }
      ],
      "source": [
        "# Normal\n",
        "img_prd = load_img('Glaucoma/Glaucoma/Glaucoma Dataset - 2/normal/1034_right.jpg',target_size=(150,150))\n",
        "img_prd = img_to_array(img_prd)\n",
        "img_pred = np.expand_dims(img_prd, axis=0)\n",
        "\n",
        "result = model.predict(img_pred)\n",
        "print(result)"
      ]
    },
    {
      "cell_type": "code",
      "execution_count": null,
      "metadata": {
        "colab": {
          "base_uri": "https://localhost:8080/"
        },
        "id": "JjQ6G3bH32H0",
        "outputId": "a58c8feb-932e-487c-c69b-39fc90e9230c"
      },
      "outputs": [
        {
          "name": "stdout",
          "output_type": "stream",
          "text": [
            "Found 4218 images belonging to 4 classes.\n",
            "264/264 [==============================] - 27s 103ms/step - loss: 0.1503 - accuracy: 0.9521\n",
            "[0.15026812255382538, 0.9521099925041199]\n"
          ]
        }
      ],
      "source": [
        "import tensorflow as tf\n",
        "from tensorflow.keras.preprocessing.image import ImageDataGenerator\n",
        "\n",
        "# Set the paths to the test data folder\n",
        "test_data_dir = 'Glaucoma/Glaucoma/Glaucoma Dataset - 2'\n",
        "\n",
        "# Define the parameters for the model\n",
        "image_width, image_height = 150, 150\n",
        "batch_size = 16\n",
        "\n",
        "# Create the data generator for test data\n",
        "test_data_generator = ImageDataGenerator(rescale=1./255)\n",
        "test_data = test_data_generator.flow_from_directory(\n",
        "    directory=test_data_dir,\n",
        "    target_size=(image_width, image_height),\n",
        "    batch_size=batch_size,\n",
        "    class_mode='categorical',\n",
        "    shuffle=False\n",
        ")\n",
        "\n",
        "# Load the trained model\n",
        "model = tf.keras.models.load_model('glaucoma_model.h5')\n",
        "\n",
        "# Evaluate the model on the test data\n",
        "# test_loss, test_accuracy = model.evaluate(test_data)\n",
        "print(model.evaluate(test_data))\n",
        "\n",
        "\n",
        "# Print the test accuracy\n",
        "# print('Test Accuracy:', test_accuracy)\n"
      ]
    }
  ],
  "metadata": {
    "colab": {
      "provenance": []
    },
    "kernelspec": {
      "display_name": "Python 3",
      "name": "python3"
    },
    "language_info": {
      "codemirror_mode": {
        "name": "ipython",
        "version": 3
      },
      "file_extension": ".py",
      "mimetype": "text/x-python",
      "name": "python",
      "nbconvert_exporter": "python",
      "pygments_lexer": "ipython3",
      "version": "3.11.4"
    }
  },
  "nbformat": 4,
  "nbformat_minor": 0
}
