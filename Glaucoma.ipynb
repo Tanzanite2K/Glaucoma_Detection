{
 "cells": [
  {
   "cell_type": "code",
   "execution_count": 43,
   "metadata": {
    "id": "96JzuA-y2xcA"
   },
   "outputs": [
    {
     "name": "stdout",
     "output_type": "stream",
     "text": [
      "Found 4218 images belonging to 4 classes.\n",
      "Epoch 1/12\n",
      "\u001b[1m131/131\u001b[0m \u001b[32m━━━━━━━━━━━━━━━━━━━━\u001b[0m\u001b[37m\u001b[0m \u001b[1m83s\u001b[0m 619ms/step - accuracy: 0.5566 - loss: 1.0358\n",
      "Epoch 2/12\n",
      "\u001b[1m131/131\u001b[0m \u001b[32m━━━━━━━━━━━━━━━━━━━━\u001b[0m\u001b[37m\u001b[0m \u001b[1m1s\u001b[0m 353us/step - accuracy: 0.9375 - loss: 0.3537  \n",
      "Epoch 3/12\n"
     ]
    },
    {
     "name": "stderr",
     "output_type": "stream",
     "text": [
      "c:\\Users\\dhani\\AppData\\Local\\Programs\\Python\\Python311\\Lib\\contextlib.py:158: UserWarning: Your input ran out of data; interrupting training. Make sure that your dataset or generator can generate at least `steps_per_epoch * epochs` batches. You may need to use the `.repeat()` function when building your dataset.\n",
      "  self.gen.throw(typ, value, traceback)\n"
     ]
    },
    {
     "name": "stdout",
     "output_type": "stream",
     "text": [
      "\u001b[1m131/131\u001b[0m \u001b[32m━━━━━━━━━━━━━━━━━━━━\u001b[0m\u001b[37m\u001b[0m \u001b[1m81s\u001b[0m 615ms/step - accuracy: 0.7544 - loss: 0.5727\n",
      "Epoch 4/12\n",
      "\u001b[1m131/131\u001b[0m \u001b[32m━━━━━━━━━━━━━━━━━━━━\u001b[0m\u001b[37m\u001b[0m \u001b[1m1s\u001b[0m 81us/step - accuracy: 0.7812 - loss: 0.3971   \n",
      "Epoch 5/12\n",
      "\u001b[1m131/131\u001b[0m \u001b[32m━━━━━━━━━━━━━━━━━━━━\u001b[0m\u001b[37m\u001b[0m \u001b[1m69s\u001b[0m 529ms/step - accuracy: 0.8023 - loss: 0.4785\n",
      "Epoch 6/12\n",
      "\u001b[1m131/131\u001b[0m \u001b[32m━━━━━━━━━━━━━━━━━━━━\u001b[0m\u001b[37m\u001b[0m \u001b[1m0s\u001b[0m 101us/step - accuracy: 0.7500 - loss: 0.4460 \n",
      "Epoch 7/12\n",
      "\u001b[1m131/131\u001b[0m \u001b[32m━━━━━━━━━━━━━━━━━━━━\u001b[0m\u001b[37m\u001b[0m \u001b[1m66s\u001b[0m 506ms/step - accuracy: 0.8079 - loss: 0.4505\n",
      "Epoch 8/12\n",
      "\u001b[1m131/131\u001b[0m \u001b[32m━━━━━━━━━━━━━━━━━━━━\u001b[0m\u001b[37m\u001b[0m \u001b[1m0s\u001b[0m 93us/step - accuracy: 0.9062 - loss: 0.3314  \n",
      "Epoch 9/12\n",
      "\u001b[1m131/131\u001b[0m \u001b[32m━━━━━━━━━━━━━━━━━━━━\u001b[0m\u001b[37m\u001b[0m \u001b[1m64s\u001b[0m 485ms/step - accuracy: 0.8359 - loss: 0.3913\n",
      "Epoch 10/12\n",
      "\u001b[1m131/131\u001b[0m \u001b[32m━━━━━━━━━━━━━━━━━━━━\u001b[0m\u001b[37m\u001b[0m \u001b[1m1s\u001b[0m 91us/step - accuracy: 0.9375 - loss: 0.3607   \n",
      "Epoch 11/12\n",
      "\u001b[1m131/131\u001b[0m \u001b[32m━━━━━━━━━━━━━━━━━━━━\u001b[0m\u001b[37m\u001b[0m \u001b[1m69s\u001b[0m 525ms/step - accuracy: 0.8243 - loss: 0.4151\n",
      "Epoch 12/12\n",
      "\u001b[1m131/131\u001b[0m \u001b[32m━━━━━━━━━━━━━━━━━━━━\u001b[0m\u001b[37m\u001b[0m \u001b[1m1s\u001b[0m 108us/step - accuracy: 0.8438 - loss: 0.3824  \n"
     ]
    },
    {
     "name": "stderr",
     "output_type": "stream",
     "text": [
      "WARNING:absl:You are saving your model as an HDF5 file via `model.save()` or `keras.saving.save_model(model)`. This file format is considered legacy. We recommend using instead the native Keras format, e.g. `model.save('my_model.keras')` or `keras.saving.save_model(model, 'my_model.keras')`. \n"
     ]
    }
   ],
   "source": [
    "import tensorflow as tf\n",
    "from tensorflow.keras.preprocessing.image import ImageDataGenerator\n",
    "\n",
    "# Set the paths to the image data folders\n",
    "positive_data_dir = 'Datasets/Glaucoma Dataset - 2'\n",
    "# negative_data_dir = '/content/drive/MyDrive/Fundus_Scanes_Sorted/Train/Glaucoma_Negative'\n",
    "\n",
    "# Define the parameters for the model\n",
    "image_width, image_height = 150, 150\n",
    "input_shape = (image_width, image_height, 3)\n",
    "batch_size = 32\n",
    "epochs = 12\n",
    "num_classes = 4\n",
    "\n",
    "# Create the data generator and load the images\n",
    "data_generator = ImageDataGenerator(rescale=1./255)\n",
    "train_data = data_generator.flow_from_directory(\n",
    "    directory=positive_data_dir,\n",
    "    target_size=(image_width, image_height),\n",
    "    batch_size=batch_size,\n",
    "    class_mode='categorical',\n",
    "    shuffle=True\n",
    ")\n",
    "\n",
    "# Create the model architecture\n",
    "model = tf.keras.models.Sequential([\n",
    "    tf.keras.layers.Conv2D(32, (3, 3), activation='relu', input_shape=input_shape),\n",
    "    tf.keras.layers.MaxPooling2D(pool_size=(2, 2)),\n",
    "    tf.keras.layers.Conv2D(64, (3, 3), activation='relu'),\n",
    "    tf.keras.layers.MaxPooling2D(pool_size=(2, 2)),\n",
    "    tf.keras.layers.Flatten(),\n",
    "    tf.keras.layers.Dense(64, activation='relu'),\n",
    "    tf.keras.layers.Dense(num_classes, activation='softmax')\n",
    "])\n",
    "\n",
    "# Compile the model\n",
    "model.compile(optimizer='adam', loss='categorical_crossentropy', metrics=['accuracy'])\n",
    "\n",
    "# Train the model\n",
    "model.fit(\n",
    "    train_data,\n",
    "    steps_per_epoch=train_data.samples // batch_size,\n",
    "    epochs=epochs\n",
    ")\n",
    "\n",
    "# Save the trained model\n",
    "model.save('glaucoma_model.h5')\n"
   ]
  },
  {
   "cell_type": "code",
   "execution_count": 5,
   "metadata": {},
   "outputs": [],
   "source": [
    "# pip install pillow\n",
    "import tensorflow as tf"
   ]
  },
  {
   "cell_type": "code",
   "execution_count": 6,
   "metadata": {},
   "outputs": [
    {
     "name": "stderr",
     "output_type": "stream",
     "text": [
      "WARNING:absl:Compiled the loaded model, but the compiled metrics have yet to be built. `model.compile_metrics` will be empty until you train or evaluate the model.\n"
     ]
    }
   ],
   "source": [
    "model = tf.keras.models.load_model('glaucoma_model.h5')"
   ]
  },
  {
   "cell_type": "code",
   "execution_count": 7,
   "metadata": {
    "id": "6YtIXmGM7lmZ"
   },
   "outputs": [],
   "source": [
    "from tensorflow.keras.preprocessing.image import ImageDataGenerator\n",
    "from tensorflow.keras.utils import array_to_img, img_to_array, load_img\n",
    "from keras.models import Sequential\n",
    "from keras.layers import Conv2D, MaxPooling2D\n",
    "from keras.layers import Activation, Dropout, Flatten, Dense\n",
    "from keras.preprocessing import image\n",
    "import numpy as np\n",
    "from keras import backend as K"
   ]
  },
  {
   "cell_type": "code",
   "execution_count": 22,
   "metadata": {
    "id": "lCEz3Tqn_k3s"
   },
   "outputs": [
    {
     "name": "stdout",
     "output_type": "stream",
     "text": [
      "\u001b[1m1/1\u001b[0m \u001b[32m━━━━━━━━━━━━━━━━━━━━\u001b[0m\u001b[37m\u001b[0m \u001b[1m0s\u001b[0m 50ms/step\n",
      "[[1. 0. 0. 0.]]\n"
     ]
    }
   ],
   "source": [
    "# Cataract\n",
    "img_prd = load_img('Datasets\\Glaucoma Dataset - 2\\cataract\\_3_4674992.jpg',target_size=(150,150))\n",
    "img_prd = img_to_array(img_prd)\n",
    "img_pred = np.expand_dims(img_prd, axis=0)\n",
    "\n",
    "result = model.predict(img_pred)\n",
    "print(result)"
   ]
  },
  {
   "cell_type": "code",
   "execution_count": 29,
   "metadata": {
    "id": "CUV2AnXYA7EF"
   },
   "outputs": [
    {
     "name": "stdout",
     "output_type": "stream",
     "text": [
      "\u001b[1m1/1\u001b[0m \u001b[32m━━━━━━━━━━━━━━━━━━━━\u001b[0m\u001b[37m\u001b[0m \u001b[1m0s\u001b[0m 73ms/step\n",
      "[[1. 0. 0. 0.]]\n"
     ]
    }
   ],
   "source": [
    "# Cataract\n",
    "img_prd = load_img('Datasets\\Glaucoma Dataset - 2\\cataract\\_9_1244013.jpg',target_size=(150,150))\n",
    "img_prd = img_to_array(img_prd)\n",
    "img_pred = np.expand_dims(img_prd, axis=0)\n",
    "\n",
    "result = model.predict(img_pred)\n",
    "print(result)"
   ]
  },
  {
   "cell_type": "code",
   "execution_count": 30,
   "metadata": {
    "id": "9DdGUnd9ADmm"
   },
   "outputs": [
    {
     "name": "stdout",
     "output_type": "stream",
     "text": [
      "\u001b[1m1/1\u001b[0m \u001b[32m━━━━━━━━━━━━━━━━━━━━\u001b[0m\u001b[37m\u001b[0m \u001b[1m0s\u001b[0m 79ms/step\n",
      "[[0. 1. 0. 0.]]\n"
     ]
    }
   ],
   "source": [
    "# Diabetic\n",
    "img_prd = load_img('Datasets/Glaucoma Dataset - 2/diabetic_retinopathy/10003_right.jpeg',target_size=(150,150))\n",
    "img_prd = img_to_array(img_prd)\n",
    "img_pred = np.expand_dims(img_prd, axis=0)\n",
    "\n",
    "result = model.predict(img_pred)\n",
    "print(result)"
   ]
  },
  {
   "cell_type": "code",
   "execution_count": 31,
   "metadata": {
    "id": "zzvC-eCXBD2G"
   },
   "outputs": [
    {
     "name": "stdout",
     "output_type": "stream",
     "text": [
      "\u001b[1m1/1\u001b[0m \u001b[32m━━━━━━━━━━━━━━━━━━━━\u001b[0m\u001b[37m\u001b[0m \u001b[1m0s\u001b[0m 69ms/step\n",
      "[[0. 1. 0. 0.]]\n"
     ]
    }
   ],
   "source": [
    "# Diabetic\n",
    "img_prd = load_img('Datasets/Glaucoma Dataset - 2/diabetic_retinopathy/1012_left.jpeg',target_size=(150,150))\n",
    "img_prd = img_to_array(img_prd)\n",
    "img_pred = np.expand_dims(img_prd, axis=0)\n",
    "\n",
    "result = model.predict(img_pred)\n",
    "print(result)"
   ]
  },
  {
   "cell_type": "code",
   "execution_count": 35,
   "metadata": {
    "id": "NGB5SzXK_rwc"
   },
   "outputs": [
    {
     "name": "stdout",
     "output_type": "stream",
     "text": [
      "\u001b[1m1/1\u001b[0m \u001b[32m━━━━━━━━━━━━━━━━━━━━\u001b[0m\u001b[37m\u001b[0m \u001b[1m0s\u001b[0m 84ms/step\n",
      "[[0. 0. 1. 0.]]\n"
     ]
    }
   ],
   "source": [
    "# Glaucoma\n",
    "img_prd = load_img('Datasets\\Glaucoma Dataset - 2\\glaucoma\\_7_5314686.jpg',target_size=(150,150))\n",
    "img_prd = img_to_array(img_prd)\n",
    "img_pred = np.expand_dims(img_prd, axis=0)\n",
    "\n",
    "result = model.predict(img_pred)\n",
    "print(result)"
   ]
  },
  {
   "cell_type": "code",
   "execution_count": 36,
   "metadata": {
    "id": "aBPNQ9fwBb1s"
   },
   "outputs": [
    {
     "name": "stdout",
     "output_type": "stream",
     "text": [
      "\u001b[1m1/1\u001b[0m \u001b[32m━━━━━━━━━━━━━━━━━━━━\u001b[0m\u001b[37m\u001b[0m \u001b[1m0s\u001b[0m 80ms/step\n",
      "[[0. 0. 0. 1.]]\n"
     ]
    }
   ],
   "source": [
    "# Normal\n",
    "img_prd = load_img('Datasets/Glaucoma Dataset - 2/normal/2335_left.jpg',target_size=(150,150))\n",
    "img_prd = img_to_array(img_prd)\n",
    "img_pred = np.expand_dims(img_prd, axis=0)\n",
    "\n",
    "result = model.predict(img_pred)\n",
    "print(result)"
   ]
  },
  {
   "cell_type": "code",
   "execution_count": null,
   "metadata": {
    "id": "Rcom8Qmj4WFz"
   },
   "outputs": [],
   "source": []
  }
 ],
 "metadata": {
  "colab": {
   "provenance": []
  },
  "kernelspec": {
   "display_name": "Python 3",
   "language": "python",
   "name": "python3"
  },
  "language_info": {
   "codemirror_mode": {
    "name": "ipython",
    "version": 3
   },
   "file_extension": ".py",
   "mimetype": "text/x-python",
   "name": "python",
   "nbconvert_exporter": "python",
   "pygments_lexer": "ipython3",
   "version": "3.11.9"
  }
 },
 "nbformat": 4,
 "nbformat_minor": 1
}
